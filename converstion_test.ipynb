{
 "cells": [
  {
   "cell_type": "code",
   "execution_count": 7,
   "metadata": {
    "ExecuteTime": {
     "end_time": "2020-04-02T12:44:14.693760Z",
     "start_time": "2020-04-02T12:44:14.688142Z"
    }
   },
   "outputs": [],
   "source": [
    "from idr2_info import idr2_ants, idr2_bls, idr2_bad_ants_casa"
   ]
  },
  {
   "cell_type": "code",
   "execution_count": 9,
   "metadata": {
    "ExecuteTime": {
     "end_time": "2020-04-02T13:22:57.166404Z",
     "start_time": "2020-04-02T13:22:57.148944Z"
    }
   },
   "outputs": [
    {
     "data": {
      "text/plain": [
       "(2, 19)"
      ]
     },
     "execution_count": 9,
     "metadata": {},
     "output_type": "execute_result"
    }
   ],
   "source": [
    "idr2_bad_ants_casa.shape"
   ]
  },
  {
   "cell_type": "code",
   "execution_count": 13,
   "metadata": {
    "ExecuteTime": {
     "end_time": "2020-04-02T13:24:16.797560Z",
     "start_time": "2020-04-02T13:24:16.789285Z"
    }
   },
   "outputs": [
    {
     "data": {
      "text/plain": [
       "array([2458098, 2458099, 2458101, 2458102, 2458103, 2458104, 2458105,\n",
       "       2458106, 2458107, 2458108, 2458109, 2458110, 2458111, 2458112,\n",
       "       2458113, 2458114, 2458115, 2458116, 2458140], dtype=object)"
      ]
     },
     "execution_count": 13,
     "metadata": {},
     "output_type": "execute_result"
    }
   ],
   "source": [
    "idr2_bad_ants_casa[0,:]"
   ]
  },
  {
   "cell_type": "code",
   "execution_count": null,
   "metadata": {},
   "outputs": [],
   "source": [
    "def apply_kc_cal(cal_tables):\n",
    "    for cal_table in cal_tables:\n",
    "        "
   ]
  }
 ],
 "metadata": {
  "kernelspec": {
   "display_name": "Python 3",
   "language": "python",
   "name": "python3"
  },
  "language_info": {
   "codemirror_mode": {
    "name": "ipython",
    "version": 3
   },
   "file_extension": ".py",
   "mimetype": "text/x-python",
   "name": "python",
   "nbconvert_exporter": "python",
   "pygments_lexer": "ipython3",
   "version": "3.7.6"
  },
  "toc": {
   "base_numbering": 1,
   "nav_menu": {},
   "number_sections": true,
   "sideBar": true,
   "skip_h1_title": false,
   "title_cell": "Table of Contents",
   "title_sidebar": "Contents",
   "toc_cell": false,
   "toc_position": {},
   "toc_section_display": true,
   "toc_window_display": false
  }
 },
 "nbformat": 4,
 "nbformat_minor": 4
}
