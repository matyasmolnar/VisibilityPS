{
 "cells": [
  {
   "cell_type": "code",
   "execution_count": 43,
   "metadata": {
    "ExecuteTime": {
     "end_time": "2020-03-31T16:55:37.666951Z",
     "start_time": "2020-03-31T16:55:37.660971Z"
    }
   },
   "outputs": [],
   "source": [
    "import numpy as np"
   ]
  },
  {
   "cell_type": "code",
   "execution_count": 44,
   "metadata": {
    "ExecuteTime": {
     "end_time": "2020-03-31T16:55:37.844943Z",
     "start_time": "2020-03-31T16:55:37.838601Z"
    }
   },
   "outputs": [],
   "source": [
    "IDR2=[2458098, 2458099, 2458101, 2458102, 2458103, 2458104, 2458105, 2458106, \\\n",
    "2458107, 2458108, 2458109, 2458110, 2458111, 2458112, 2458113, 2458114, 2458115, \\\n",
    "2458116, 2458140]"
   ]
  },
  {
   "cell_type": "code",
   "execution_count": 45,
   "metadata": {
    "ExecuteTime": {
     "end_time": "2020-03-31T16:55:38.396765Z",
     "start_time": "2020-03-31T16:55:38.380515Z"
    }
   },
   "outputs": [],
   "source": [
    "bad_ants = np.empty((2, 19), list)\n",
    "bad_ants[0,:] = IDR2\n",
    "a = np.asarray([\n",
    "[0,136,50,2],\n",
    "[0,50],\n",
    "[0,50],\n",
    "[0,50,98],\n",
    "[0,136,50,98],\n",
    "[50,2],\n",
    "[0,136,50,98],\n",
    "[0,136,50],\n",
    "[0,136,50,98],\n",
    "[0,136,50],\n",
    "[137,50,2],\n",
    "[0,136,50],\n",
    "[0,136,50],\n",
    "[0,50],\n",
    "[0,136,50,98],\n",
    "[0,136,50,11],\n",
    "[0,136,50],\n",
    "[0,50,98],\n",
    "[104,50,68,117]\n",
    "])\n",
    "# bad_ants[1,:] = a"
   ]
  },
  {
   "cell_type": "code",
   "execution_count": 46,
   "metadata": {
    "ExecuteTime": {
     "end_time": "2020-03-31T16:55:39.042221Z",
     "start_time": "2020-03-31T16:55:39.036358Z"
    }
   },
   "outputs": [],
   "source": [
    "a = np.array([np.array(xi) for xi in a])"
   ]
  },
  {
   "cell_type": "code",
   "execution_count": 47,
   "metadata": {
    "ExecuteTime": {
     "end_time": "2020-03-31T16:55:40.018956Z",
     "start_time": "2020-03-31T16:55:40.013389Z"
    }
   },
   "outputs": [],
   "source": [
    "bad_ants[1,:] = a"
   ]
  },
  {
   "cell_type": "code",
   "execution_count": 48,
   "metadata": {
    "ExecuteTime": {
     "end_time": "2020-03-31T16:55:44.583363Z",
     "start_time": "2020-03-31T16:55:44.572681Z"
    }
   },
   "outputs": [
    {
     "data": {
      "text/plain": [
       "array([[2458098, 2458099, 2458101, 2458102, 2458103, 2458104, 2458105,\n",
       "        2458106, 2458107, 2458108, 2458109, 2458110, 2458111, 2458112,\n",
       "        2458113, 2458114, 2458115, 2458116, 2458140],\n",
       "       [array([  0, 136,  50,   2]), array([ 0, 50]), array([ 0, 50]),\n",
       "        array([ 0, 50, 98]), array([  0, 136,  50,  98]),\n",
       "        array([50,  2]), array([  0, 136,  50,  98]),\n",
       "        array([  0, 136,  50]), array([  0, 136,  50,  98]),\n",
       "        array([  0, 136,  50]), array([137,  50,   2]),\n",
       "        array([  0, 136,  50]), array([  0, 136,  50]), array([ 0, 50]),\n",
       "        array([  0, 136,  50,  98]), array([  0, 136,  50,  11]),\n",
       "        array([  0, 136,  50]), array([ 0, 50, 98]),\n",
       "        array([104,  50,  68, 117])]], dtype=object)"
      ]
     },
     "execution_count": 48,
     "metadata": {},
     "output_type": "execute_result"
    }
   ],
   "source": [
    "bad_ants"
   ]
  },
  {
   "cell_type": "code",
   "execution_count": 49,
   "metadata": {
    "ExecuteTime": {
     "end_time": "2020-03-31T16:55:49.633884Z",
     "start_time": "2020-03-31T16:55:49.628150Z"
    }
   },
   "outputs": [],
   "source": [
    "bad_ants_casa = np.copy(bad_ants)"
   ]
  },
  {
   "cell_type": "code",
   "execution_count": 54,
   "metadata": {
    "ExecuteTime": {
     "end_time": "2020-03-31T16:56:43.779335Z",
     "start_time": "2020-03-31T16:56:43.772755Z"
    }
   },
   "outputs": [],
   "source": [
    "bad_ants_casa[1, :] += 1"
   ]
  },
  {
   "cell_type": "code",
   "execution_count": 55,
   "metadata": {
    "ExecuteTime": {
     "end_time": "2020-03-31T16:56:47.659091Z",
     "start_time": "2020-03-31T16:56:47.648784Z"
    }
   },
   "outputs": [
    {
     "data": {
      "text/plain": [
       "array([[2458098, 2458099, 2458101, 2458102, 2458103, 2458104, 2458105,\n",
       "        2458106, 2458107, 2458108, 2458109, 2458110, 2458111, 2458112,\n",
       "        2458113, 2458114, 2458115, 2458116, 2458140],\n",
       "       [array([  1, 137,  51,   3]), array([ 1, 51]), array([ 1, 51]),\n",
       "        array([ 1, 51, 99]), array([  1, 137,  51,  99]),\n",
       "        array([51,  3]), array([  1, 137,  51,  99]),\n",
       "        array([  1, 137,  51]), array([  1, 137,  51,  99]),\n",
       "        array([  1, 137,  51]), array([138,  51,   3]),\n",
       "        array([  1, 137,  51]), array([  1, 137,  51]), array([ 1, 51]),\n",
       "        array([  1, 137,  51,  99]), array([  1, 137,  51,  12]),\n",
       "        array([  1, 137,  51]), array([ 1, 51, 99]),\n",
       "        array([105,  51,  69, 118])]], dtype=object)"
      ]
     },
     "execution_count": 55,
     "metadata": {},
     "output_type": "execute_result"
    }
   ],
   "source": [
    "bad_ants_casa"
   ]
  },
  {
   "cell_type": "code",
   "execution_count": null,
   "metadata": {},
   "outputs": [],
   "source": []
  },
  {
   "cell_type": "code",
   "execution_count": 38,
   "metadata": {
    "ExecuteTime": {
     "end_time": "2020-03-31T16:55:08.693985Z",
     "start_time": "2020-03-31T16:55:08.685391Z"
    }
   },
   "outputs": [],
   "source": [
    "bad_ants_casa = bad_ants\n",
    "# Converting ant number from HERA to CASA (adding 1)\n",
    "for i in range(len(bad_ants[1,:])):\n",
    "    for j in range(len(bad_ants[1,i])):\n",
    "        bad_ants_casa[1, i][j] = bad_ants[1, i][j] + 1"
   ]
  },
  {
   "cell_type": "code",
   "execution_count": 18,
   "metadata": {
    "ExecuteTime": {
     "end_time": "2020-03-31T16:48:35.557539Z",
     "start_time": "2020-03-31T16:48:35.548016Z"
    }
   },
   "outputs": [
    {
     "data": {
      "text/plain": [
       "array([list([1, 137, 51, 3]), list([1, 51]), list([1, 51]),\n",
       "       list([1, 51, 99]), list([1, 137, 51, 99]), list([51, 3]),\n",
       "       list([1, 137, 51, 99]), list([1, 137, 51]), list([1, 137, 51, 99]),\n",
       "       list([1, 137, 51]), list([138, 51, 3]), list([1, 137, 51]),\n",
       "       list([1, 137, 51]), list([1, 51]), list([1, 137, 51, 99]),\n",
       "       list([1, 137, 51, 12]), list([1, 137, 51]), list([1, 51, 99]),\n",
       "       list([105, 51, 69, 118])], dtype=object)"
      ]
     },
     "execution_count": 18,
     "metadata": {},
     "output_type": "execute_result"
    }
   ],
   "source": [
    "bad_ants[1, :]"
   ]
  },
  {
   "cell_type": "code",
   "execution_count": 15,
   "metadata": {
    "ExecuteTime": {
     "end_time": "2020-03-31T16:48:09.617152Z",
     "start_time": "2020-03-31T16:48:09.609255Z"
    }
   },
   "outputs": [
    {
     "data": {
      "text/plain": [
       "array([[2458098, 2458099, 2458101, 2458102, 2458103, 2458104, 2458105,\n",
       "        2458106, 2458107, 2458108, 2458109, 2458110, 2458111, 2458112,\n",
       "        2458113, 2458114, 2458115, 2458116, 2458140],\n",
       "       [list([1, 137, 51, 3]), list([1, 51]), list([1, 51]),\n",
       "        list([1, 51, 99]), list([1, 137, 51, 99]), list([51, 3]),\n",
       "        list([1, 137, 51, 99]), list([1, 137, 51]),\n",
       "        list([1, 137, 51, 99]), list([1, 137, 51]), list([138, 51, 3]),\n",
       "        list([1, 137, 51]), list([1, 137, 51]), list([1, 51]),\n",
       "        list([1, 137, 51, 99]), list([1, 137, 51, 12]),\n",
       "        list([1, 137, 51]), list([1, 51, 99]), list([105, 51, 69, 118])]],\n",
       "      dtype=object)"
      ]
     },
     "execution_count": 15,
     "metadata": {},
     "output_type": "execute_result"
    }
   ],
   "source": [
    "bad_ants_casa"
   ]
  },
  {
   "cell_type": "code",
   "execution_count": null,
   "metadata": {},
   "outputs": [],
   "source": []
  }
 ],
 "metadata": {
  "kernelspec": {
   "display_name": "Python 3",
   "language": "python",
   "name": "python3"
  },
  "language_info": {
   "codemirror_mode": {
    "name": "ipython",
    "version": 3
   },
   "file_extension": ".py",
   "mimetype": "text/x-python",
   "name": "python",
   "nbconvert_exporter": "python",
   "pygments_lexer": "ipython3",
   "version": "3.7.6"
  },
  "toc": {
   "base_numbering": 1,
   "nav_menu": {},
   "number_sections": true,
   "sideBar": true,
   "skip_h1_title": false,
   "title_cell": "Table of Contents",
   "title_sidebar": "Contents",
   "toc_cell": false,
   "toc_position": {},
   "toc_section_display": true,
   "toc_window_display": false
  }
 },
 "nbformat": 4,
 "nbformat_minor": 4
}
